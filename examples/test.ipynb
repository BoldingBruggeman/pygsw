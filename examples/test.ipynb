{
 "cells": [
  {
   "cell_type": "code",
   "execution_count": null,
   "metadata": {},
   "outputs": [],
   "source": [
    "import numpy as np\n",
    "%matplotlib widget\n",
    "from matplotlib import pyplot\n",
    "import pygsw"
   ]
  },
  {
   "cell_type": "code",
   "execution_count": null,
   "metadata": {},
   "outputs": [],
   "source": [
    "sa = np.linspace(0.0, 40.0, 100)\n",
    "ct = np.linspace(0.0, 35.0, 101)\n",
    "sa, ct = np.meshgrid(sa, ct)\n",
    "\n",
    "rho1 = np.empty_like(sa)\n",
    "pygsw.rho(sa.reshape(-1), ct.reshape(-1), np.zeros_like(sa).reshape(-1), rho1.reshape(-1))\n",
    "\n",
    "fig, (ax1, ax2) = pyplot.subplots(ncols=2, figsize=(12, 6))\n",
    "pc = ax1.pcolormesh(ct, sa, rho1, shading='auto', vmin=990, vmax=1050)\n",
    "ax1.set_xlabel('conservative temperature (degrees Celsius)')\n",
    "ax1.set_ylabel('absolute salinity (g kg-1)')\n",
    "cb = fig.colorbar(pc, ax=ax1)\n",
    "cb.set_label('density (kg m-3)')\n",
    "ax1.set_title('depth = 0 m')\n",
    "\n",
    "rho2 = np.empty_like(sa)\n",
    "pygsw.rho(sa.reshape(-1), ct.reshape(-1), np.full_like(sa, 4000.).reshape(-1), rho2.reshape(-1))\n",
    "\n",
    "pc = ax2.pcolormesh(ct, sa, rho2, shading='auto', vmin=990, vmax=1050)\n",
    "ax2.set_xlabel('conservative temperature (degrees Celsius)')\n",
    "cb = fig.colorbar(pc, ax=ax2)\n",
    "cb.set_label('density (kg m-3)')\n",
    "ax2.set_title('depth = 4000 m')"
   ]
  },
  {
   "cell_type": "code",
   "execution_count": null,
   "metadata": {},
   "outputs": [],
   "source": []
  }
 ],
 "metadata": {
  "kernelspec": {
   "display_name": "Python 3.8.8 ('base')",
   "language": "python",
   "name": "python3"
  },
  "language_info": {
   "codemirror_mode": {
    "name": "ipython",
    "version": 3
   },
   "file_extension": ".py",
   "mimetype": "text/x-python",
   "name": "python",
   "nbconvert_exporter": "python",
   "pygments_lexer": "ipython3",
   "version": "3.8.8"
  },
  "orig_nbformat": 4,
  "vscode": {
   "interpreter": {
    "hash": "e4cce46d6be9934fbd27f9ca0432556941ea5bdf741d4f4d64c6cd7f8dfa8fba"
   }
  }
 },
 "nbformat": 4,
 "nbformat_minor": 2
}
